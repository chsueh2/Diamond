{
 "cells": [
  {
   "cell_type": "markdown",
   "id": "441954c1-69d9-4f79-90af-0590b8dae9ae",
   "metadata": {},
   "source": [
    "# Classification Models\n",
    "Chien-Lan Hsueh\n",
    "\n",
    "Process:\n",
    "1. Read the data in\n",
    "2. Split the data into a training and test set\n",
    "3. For each model type, use cross-validation on the training set to select a **best** model \n",
    "    - MLR models with logistic regression\n",
    "    - Classification tree model \n",
    "    - Random forest model\n",
    "4. Compare the best models on the test set and determine which the model has the lowest error"
   ]
  },
  {
   "cell_type": "markdown",
   "metadata": {},
   "source": [
    "## 0. Preparation\n",
    "Load needed modules."
   ]
  },
  {
   "cell_type": "code",
   "execution_count": 1,
   "id": "6583915f-6b38-4a1a-9ce4-b0b9dd4c2abd",
   "metadata": {},
   "outputs": [],
   "source": [
    "import numpy as np\n",
    "import pandas as pd\n",
    "import matplotlib.pyplot as plt\n",
    "\n",
    "# load all the functions we'll need from `sklearn`\n",
    "from sklearn.model_selection import train_test_split, GridSearchCV, cross_validate\n",
    "from sklearn.preprocessing import PolynomialFeatures\n",
    "from sklearn.linear_model import LogisticRegression\n",
    "from sklearn.tree import DecisionTreeClassifier\n",
    "from sklearn.ensemble import RandomForestClassifier\n",
    "from sklearn.metrics import confusion_matrix, ConfusionMatrixDisplay, mean_squared_error"
   ]
  },
  {
   "cell_type": "markdown",
   "id": "4b4d7b7c-49d1-4335-b123-451dc815845c",
   "metadata": {},
   "source": [
    "## 1. Read in the `diamonds` data set\n",
    "Data source: from [kaggle](https://www.kaggle.com/datasets/shivam2503/diamondshttps://www.kaggle.com/datasets/shivam2503/diamonds)."
   ]
  },
  {
   "cell_type": "code",
   "execution_count": 2,
   "id": "43142c54",
   "metadata": {},
   "outputs": [
    {
     "name": "stdout",
     "output_type": "stream",
     "text": [
      "<class 'pandas.core.frame.DataFrame'>\n",
      "RangeIndex: 53940 entries, 0 to 53939\n",
      "Data columns (total 11 columns):\n",
      " #   Column      Non-Null Count  Dtype  \n",
      "---  ------      --------------  -----  \n",
      " 0   Unnamed: 0  53940 non-null  int64  \n",
      " 1   carat       53940 non-null  float64\n",
      " 2   cut         53940 non-null  object \n",
      " 3   color       53940 non-null  object \n",
      " 4   clarity     53940 non-null  object \n",
      " 5   depth       53940 non-null  float64\n",
      " 6   table       53940 non-null  float64\n",
      " 7   price       53940 non-null  int64  \n",
      " 8   x           53940 non-null  float64\n",
      " 9   y           53940 non-null  float64\n",
      " 10  z           53940 non-null  float64\n",
      "dtypes: float64(6), int64(2), object(3)\n",
      "memory usage: 4.5+ MB\n"
     ]
    },
    {
     "data": {
      "text/plain": [
       "None"
      ]
     },
     "metadata": {},
     "output_type": "display_data"
    },
    {
     "data": {
      "text/html": [
       "<div>\n",
       "<style scoped>\n",
       "    .dataframe tbody tr th:only-of-type {\n",
       "        vertical-align: middle;\n",
       "    }\n",
       "\n",
       "    .dataframe tbody tr th {\n",
       "        vertical-align: top;\n",
       "    }\n",
       "\n",
       "    .dataframe thead th {\n",
       "        text-align: right;\n",
       "    }\n",
       "</style>\n",
       "<table border=\"1\" class=\"dataframe\">\n",
       "  <thead>\n",
       "    <tr style=\"text-align: right;\">\n",
       "      <th></th>\n",
       "      <th>Unnamed: 0</th>\n",
       "      <th>carat</th>\n",
       "      <th>cut</th>\n",
       "      <th>color</th>\n",
       "      <th>clarity</th>\n",
       "      <th>depth</th>\n",
       "      <th>table</th>\n",
       "      <th>price</th>\n",
       "      <th>x</th>\n",
       "      <th>y</th>\n",
       "      <th>z</th>\n",
       "    </tr>\n",
       "  </thead>\n",
       "  <tbody>\n",
       "    <tr>\n",
       "      <th>0</th>\n",
       "      <td>1</td>\n",
       "      <td>0.23</td>\n",
       "      <td>Ideal</td>\n",
       "      <td>E</td>\n",
       "      <td>SI2</td>\n",
       "      <td>61.5</td>\n",
       "      <td>55.0</td>\n",
       "      <td>326</td>\n",
       "      <td>3.95</td>\n",
       "      <td>3.98</td>\n",
       "      <td>2.43</td>\n",
       "    </tr>\n",
       "    <tr>\n",
       "      <th>1</th>\n",
       "      <td>2</td>\n",
       "      <td>0.21</td>\n",
       "      <td>Premium</td>\n",
       "      <td>E</td>\n",
       "      <td>SI1</td>\n",
       "      <td>59.8</td>\n",
       "      <td>61.0</td>\n",
       "      <td>326</td>\n",
       "      <td>3.89</td>\n",
       "      <td>3.84</td>\n",
       "      <td>2.31</td>\n",
       "    </tr>\n",
       "    <tr>\n",
       "      <th>2</th>\n",
       "      <td>3</td>\n",
       "      <td>0.23</td>\n",
       "      <td>Good</td>\n",
       "      <td>E</td>\n",
       "      <td>VS1</td>\n",
       "      <td>56.9</td>\n",
       "      <td>65.0</td>\n",
       "      <td>327</td>\n",
       "      <td>4.05</td>\n",
       "      <td>4.07</td>\n",
       "      <td>2.31</td>\n",
       "    </tr>\n",
       "    <tr>\n",
       "      <th>3</th>\n",
       "      <td>4</td>\n",
       "      <td>0.29</td>\n",
       "      <td>Premium</td>\n",
       "      <td>I</td>\n",
       "      <td>VS2</td>\n",
       "      <td>62.4</td>\n",
       "      <td>58.0</td>\n",
       "      <td>334</td>\n",
       "      <td>4.20</td>\n",
       "      <td>4.23</td>\n",
       "      <td>2.63</td>\n",
       "    </tr>\n",
       "    <tr>\n",
       "      <th>4</th>\n",
       "      <td>5</td>\n",
       "      <td>0.31</td>\n",
       "      <td>Good</td>\n",
       "      <td>J</td>\n",
       "      <td>SI2</td>\n",
       "      <td>63.3</td>\n",
       "      <td>58.0</td>\n",
       "      <td>335</td>\n",
       "      <td>4.34</td>\n",
       "      <td>4.35</td>\n",
       "      <td>2.75</td>\n",
       "    </tr>\n",
       "  </tbody>\n",
       "</table>\n",
       "</div>"
      ],
      "text/plain": [
       "   Unnamed: 0  carat      cut color clarity  depth  table  price     x     y  \\\n",
       "0           1   0.23    Ideal     E     SI2   61.5   55.0    326  3.95  3.98   \n",
       "1           2   0.21  Premium     E     SI1   59.8   61.0    326  3.89  3.84   \n",
       "2           3   0.23     Good     E     VS1   56.9   65.0    327  4.05  4.07   \n",
       "3           4   0.29  Premium     I     VS2   62.4   58.0    334  4.20  4.23   \n",
       "4           5   0.31     Good     J     SI2   63.3   58.0    335  4.34  4.35   \n",
       "\n",
       "      z  \n",
       "0  2.43  \n",
       "1  2.31  \n",
       "2  2.31  \n",
       "3  2.63  \n",
       "4  2.75  "
      ]
     },
     "metadata": {},
     "output_type": "display_data"
    },
    {
     "data": {
      "image/png": "[encoded data removed]",
      "text/plain": [
       "<Figure size 432x288 with 1 Axes>"
      ]
     },
     "metadata": {
      "needs_background": "light"
     },
     "output_type": "display_data"
    }
   ],
   "source": [
    "# read in data\n",
    "df_raw = pd.read_csv(\"diamonds.csv\")\n",
    "\n",
    "# check the data\n",
    "display(df_raw.info())\n",
    "display(df_raw.head())\n",
    "\n",
    "# plot a histogram of price\n",
    "df_raw['price'].plot.hist()\n",
    "plt.title(\"Histogram of Price\")\n",
    "plt.xlabel(\"Diamond Price\")\n",
    "plt.show()"
   ]
  },
  {
   "cell_type": "markdown",
   "id": "3d7c2db7-eb15-4957-8659-1c970f689bc5",
   "metadata": {},
   "source": [
    "Prepare the data:\n",
    "- Based on the summaries and the plot above, I pick $5000 as a threshold to classify if a dimond is expensive or not.\n",
    "- Create dummy variables for categorical variable `cut`, `color` and `price_group`\n",
    "- Remove the `clarity` (to match the notebook in the lecture) and any other variables not being used in the modeling "
   ]
  },
  {
   "cell_type": "code",
   "execution_count": 3,
   "id": "0c851981",
   "metadata": {},
   "outputs": [
    {
     "data": {
      "text/html": [
       "<div>\n",
       "<style scoped>\n",
       "    .dataframe tbody tr th:only-of-type {\n",
       "        vertical-align: middle;\n",
       "    }\n",
       "\n",
       "    .dataframe tbody tr th {\n",
       "        vertical-align: top;\n",
       "    }\n",
       "\n",
       "    .dataframe thead th {\n",
       "        text-align: right;\n",
       "    }\n",
       "</style>\n",
       "<table border=\"1\" class=\"dataframe\">\n",
       "  <thead>\n",
       "    <tr style=\"text-align: right;\">\n",
       "      <th></th>\n",
       "      <th>carat</th>\n",
       "      <th>depth</th>\n",
       "      <th>table</th>\n",
       "      <th>x</th>\n",
       "      <th>y</th>\n",
       "      <th>z</th>\n",
       "      <th>isExpensive</th>\n",
       "      <th>Fair</th>\n",
       "      <th>Good</th>\n",
       "      <th>Ideal</th>\n",
       "      <th>Premium</th>\n",
       "      <th>Very Good</th>\n",
       "      <th>D</th>\n",
       "      <th>E</th>\n",
       "      <th>F</th>\n",
       "      <th>G</th>\n",
       "      <th>H</th>\n",
       "      <th>I</th>\n",
       "      <th>J</th>\n",
       "    </tr>\n",
       "  </thead>\n",
       "  <tbody>\n",
       "    <tr>\n",
       "      <th>0</th>\n",
       "      <td>0.23</td>\n",
       "      <td>61.5</td>\n",
       "      <td>55.0</td>\n",
       "      <td>3.95</td>\n",
       "      <td>3.98</td>\n",
       "      <td>2.43</td>\n",
       "      <td>0</td>\n",
       "      <td>0</td>\n",
       "      <td>0</td>\n",
       "      <td>1</td>\n",
       "      <td>0</td>\n",
       "      <td>0</td>\n",
       "      <td>0</td>\n",
       "      <td>1</td>\n",
       "      <td>0</td>\n",
       "      <td>0</td>\n",
       "      <td>0</td>\n",
       "      <td>0</td>\n",
       "      <td>0</td>\n",
       "    </tr>\n",
       "    <tr>\n",
       "      <th>1</th>\n",
       "      <td>0.21</td>\n",
       "      <td>59.8</td>\n",
       "      <td>61.0</td>\n",
       "      <td>3.89</td>\n",
       "      <td>3.84</td>\n",
       "      <td>2.31</td>\n",
       "      <td>0</td>\n",
       "      <td>0</td>\n",
       "      <td>0</td>\n",
       "      <td>0</td>\n",
       "      <td>1</td>\n",
       "      <td>0</td>\n",
       "      <td>0</td>\n",
       "      <td>1</td>\n",
       "      <td>0</td>\n",
       "      <td>0</td>\n",
       "      <td>0</td>\n",
       "      <td>0</td>\n",
       "      <td>0</td>\n",
       "    </tr>\n",
       "    <tr>\n",
       "      <th>2</th>\n",
       "      <td>0.23</td>\n",
       "      <td>56.9</td>\n",
       "      <td>65.0</td>\n",
       "      <td>4.05</td>\n",
       "      <td>4.07</td>\n",
       "      <td>2.31</td>\n",
       "      <td>0</td>\n",
       "      <td>0</td>\n",
       "      <td>1</td>\n",
       "      <td>0</td>\n",
       "      <td>0</td>\n",
       "      <td>0</td>\n",
       "      <td>0</td>\n",
       "      <td>1</td>\n",
       "      <td>0</td>\n",
       "      <td>0</td>\n",
       "      <td>0</td>\n",
       "      <td>0</td>\n",
       "      <td>0</td>\n",
       "    </tr>\n",
       "    <tr>\n",
       "      <th>3</th>\n",
       "      <td>0.29</td>\n",
       "      <td>62.4</td>\n",
       "      <td>58.0</td>\n",
       "      <td>4.20</td>\n",
       "      <td>4.23</td>\n",
       "      <td>2.63</td>\n",
       "      <td>0</td>\n",
       "      <td>0</td>\n",
       "      <td>0</td>\n",
       "      <td>0</td>\n",
       "      <td>1</td>\n",
       "      <td>0</td>\n",
       "      <td>0</td>\n",
       "      <td>0</td>\n",
       "      <td>0</td>\n",
       "      <td>0</td>\n",
       "      <td>0</td>\n",
       "      <td>1</td>\n",
       "      <td>0</td>\n",
       "    </tr>\n",
       "    <tr>\n",
       "      <th>4</th>\n",
       "      <td>0.31</td>\n",
       "      <td>63.3</td>\n",
       "      <td>58.0</td>\n",
       "      <td>4.34</td>\n",
       "      <td>4.35</td>\n",
       "      <td>2.75</td>\n",
       "      <td>0</td>\n",
       "      <td>0</td>\n",
       "      <td>1</td>\n",
       "      <td>0</td>\n",
       "      <td>0</td>\n",
       "      <td>0</td>\n",
       "      <td>0</td>\n",
       "      <td>0</td>\n",
       "      <td>0</td>\n",
       "      <td>0</td>\n",
       "      <td>0</td>\n",
       "      <td>0</td>\n",
       "      <td>1</td>\n",
       "    </tr>\n",
       "  </tbody>\n",
       "</table>\n",
       "</div>"
      ],
      "text/plain": [
       "   carat  depth  table     x     y     z  isExpensive  Fair  Good  Ideal  \\\n",
       "0   0.23   61.5   55.0  3.95  3.98  2.43            0     0     0      1   \n",
       "1   0.21   59.8   61.0  3.89  3.84  2.31            0     0     0      0   \n",
       "2   0.23   56.9   65.0  4.05  4.07  2.31            0     0     1      0   \n",
       "3   0.29   62.4   58.0  4.20  4.23  2.63            0     0     0      0   \n",
       "4   0.31   63.3   58.0  4.34  4.35  2.75            0     0     1      0   \n",
       "\n",
       "   Premium  Very Good  D  E  F  G  H  I  J  \n",
       "0        0          0  0  1  0  0  0  0  0  \n",
       "1        1          0  0  1  0  0  0  0  0  \n",
       "2        0          0  0  1  0  0  0  0  0  \n",
       "3        1          0  0  0  0  0  0  1  0  \n",
       "4        0          0  0  0  0  0  0  0  1  "
      ]
     },
     "execution_count": 3,
     "metadata": {},
     "output_type": "execute_result"
    }
   ],
   "source": [
    "# set the price threshold \n",
    "price_threshold = 5000\n",
    "\n",
    "# create dummy variable for categorical variables and remove variables which will not be used in the following modeling\n",
    "df = df_raw \\\n",
    "    .assign(isExpensive = (df_raw['price'] > price_threshold).astype(\"int64\")) \\\n",
    "    .join(pd.get_dummies(df_raw['cut'])) \\\n",
    "    .join(pd.get_dummies(df_raw['color'])) \\\n",
    "    .drop(['Unnamed: 0', 'price', 'cut', 'color', 'clarity'], axis = 1)\n",
    "\n",
    "df.head()"
   ]
  },
  {
   "cell_type": "markdown",
   "id": "3aa3aadb-d943-4ee3-8822-68790a5b1ac8",
   "metadata": {},
   "source": [
    "Now let's check over the data to make sure the dummy variables aren't super rare. <br>\n",
    "(Note: ideally we would explore the data more and consider transformations of variables and other feature engineering.)"
   ]
  },
  {
   "cell_type": "code",
   "execution_count": 4,
   "id": "bb154a96-2a9b-4d3a-828e-debf5c0d53f2",
   "metadata": {},
   "outputs": [
    {
     "data": {
      "text/html": [
       "<div>\n",
       "<style scoped>\n",
       "    .dataframe tbody tr th:only-of-type {\n",
       "        vertical-align: middle;\n",
       "    }\n",
       "\n",
       "    .dataframe tbody tr th {\n",
       "        vertical-align: top;\n",
       "    }\n",
       "\n",
       "    .dataframe thead th {\n",
       "        text-align: right;\n",
       "    }\n",
       "</style>\n",
       "<table border=\"1\" class=\"dataframe\">\n",
       "  <thead>\n",
       "    <tr style=\"text-align: right;\">\n",
       "      <th></th>\n",
       "      <th>carat</th>\n",
       "      <th>depth</th>\n",
       "      <th>table</th>\n",
       "      <th>x</th>\n",
       "      <th>y</th>\n",
       "      <th>z</th>\n",
       "      <th>isExpensive</th>\n",
       "      <th>Fair</th>\n",
       "      <th>Good</th>\n",
       "      <th>Ideal</th>\n",
       "      <th>Premium</th>\n",
       "      <th>Very Good</th>\n",
       "      <th>D</th>\n",
       "      <th>E</th>\n",
       "      <th>F</th>\n",
       "      <th>G</th>\n",
       "      <th>H</th>\n",
       "      <th>I</th>\n",
       "      <th>J</th>\n",
       "    </tr>\n",
       "  </thead>\n",
       "  <tbody>\n",
       "    <tr>\n",
       "      <th>count</th>\n",
       "      <td>53940.000000</td>\n",
       "      <td>53940.000000</td>\n",
       "      <td>53940.000000</td>\n",
       "      <td>53940.000000</td>\n",
       "      <td>53940.000000</td>\n",
       "      <td>53940.000000</td>\n",
       "      <td>53940.000000</td>\n",
       "      <td>53940.000000</td>\n",
       "      <td>53940.000000</td>\n",
       "      <td>53940.000000</td>\n",
       "      <td>53940.000000</td>\n",
       "      <td>53940.000000</td>\n",
       "      <td>53940.000000</td>\n",
       "      <td>53940.000000</td>\n",
       "      <td>53940.000000</td>\n",
       "      <td>53940.000000</td>\n",
       "      <td>53940.000000</td>\n",
       "      <td>53940.000000</td>\n",
       "      <td>53940.000000</td>\n",
       "    </tr>\n",
       "    <tr>\n",
       "      <th>mean</th>\n",
       "      <td>0.797940</td>\n",
       "      <td>61.749405</td>\n",
       "      <td>57.457184</td>\n",
       "      <td>5.731157</td>\n",
       "      <td>5.734526</td>\n",
       "      <td>3.538734</td>\n",
       "      <td>0.272785</td>\n",
       "      <td>0.029848</td>\n",
       "      <td>0.090953</td>\n",
       "      <td>0.399537</td>\n",
       "      <td>0.255673</td>\n",
       "      <td>0.223990</td>\n",
       "      <td>0.125603</td>\n",
       "      <td>0.181628</td>\n",
       "      <td>0.176900</td>\n",
       "      <td>0.209344</td>\n",
       "      <td>0.153949</td>\n",
       "      <td>0.100519</td>\n",
       "      <td>0.052058</td>\n",
       "    </tr>\n",
       "    <tr>\n",
       "      <th>std</th>\n",
       "      <td>0.474011</td>\n",
       "      <td>1.432621</td>\n",
       "      <td>2.234491</td>\n",
       "      <td>1.121761</td>\n",
       "      <td>1.142135</td>\n",
       "      <td>0.705699</td>\n",
       "      <td>0.445395</td>\n",
       "      <td>0.170169</td>\n",
       "      <td>0.287545</td>\n",
       "      <td>0.489808</td>\n",
       "      <td>0.436243</td>\n",
       "      <td>0.416919</td>\n",
       "      <td>0.331404</td>\n",
       "      <td>0.385541</td>\n",
       "      <td>0.381588</td>\n",
       "      <td>0.406844</td>\n",
       "      <td>0.360903</td>\n",
       "      <td>0.300694</td>\n",
       "      <td>0.222146</td>\n",
       "    </tr>\n",
       "    <tr>\n",
       "      <th>min</th>\n",
       "      <td>0.200000</td>\n",
       "      <td>43.000000</td>\n",
       "      <td>43.000000</td>\n",
       "      <td>0.000000</td>\n",
       "      <td>0.000000</td>\n",
       "      <td>0.000000</td>\n",
       "      <td>0.000000</td>\n",
       "      <td>0.000000</td>\n",
       "      <td>0.000000</td>\n",
       "      <td>0.000000</td>\n",
       "      <td>0.000000</td>\n",
       "      <td>0.000000</td>\n",
       "      <td>0.000000</td>\n",
       "      <td>0.000000</td>\n",
       "      <td>0.000000</td>\n",
       "      <td>0.000000</td>\n",
       "      <td>0.000000</td>\n",
       "      <td>0.000000</td>\n",
       "      <td>0.000000</td>\n",
       "    </tr>\n",
       "    <tr>\n",
       "      <th>25%</th>\n",
       "      <td>0.400000</td>\n",
       "      <td>61.000000</td>\n",
       "      <td>56.000000</td>\n",
       "      <td>4.710000</td>\n",
       "      <td>4.720000</td>\n",
       "      <td>2.910000</td>\n",
       "      <td>0.000000</td>\n",
       "      <td>0.000000</td>\n",
       "      <td>0.000000</td>\n",
       "      <td>0.000000</td>\n",
       "      <td>0.000000</td>\n",
       "      <td>0.000000</td>\n",
       "      <td>0.000000</td>\n",
       "      <td>0.000000</td>\n",
       "      <td>0.000000</td>\n",
       "      <td>0.000000</td>\n",
       "      <td>0.000000</td>\n",
       "      <td>0.000000</td>\n",
       "      <td>0.000000</td>\n",
       "    </tr>\n",
       "    <tr>\n",
       "      <th>50%</th>\n",
       "      <td>0.700000</td>\n",
       "      <td>61.800000</td>\n",
       "      <td>57.000000</td>\n",
       "      <td>5.700000</td>\n",
       "      <td>5.710000</td>\n",
       "      <td>3.530000</td>\n",
       "      <td>0.000000</td>\n",
       "      <td>0.000000</td>\n",
       "      <td>0.000000</td>\n",
       "      <td>0.000000</td>\n",
       "      <td>0.000000</td>\n",
       "      <td>0.000000</td>\n",
       "      <td>0.000000</td>\n",
       "      <td>0.000000</td>\n",
       "      <td>0.000000</td>\n",
       "      <td>0.000000</td>\n",
       "      <td>0.000000</td>\n",
       "      <td>0.000000</td>\n",
       "      <td>0.000000</td>\n",
       "    </tr>\n",
       "    <tr>\n",
       "      <th>75%</th>\n",
       "      <td>1.040000</td>\n",
       "      <td>62.500000</td>\n",
       "      <td>59.000000</td>\n",
       "      <td>6.540000</td>\n",
       "      <td>6.540000</td>\n",
       "      <td>4.040000</td>\n",
       "      <td>1.000000</td>\n",
       "      <td>0.000000</td>\n",
       "      <td>0.000000</td>\n",
       "      <td>1.000000</td>\n",
       "      <td>1.000000</td>\n",
       "      <td>0.000000</td>\n",
       "      <td>0.000000</td>\n",
       "      <td>0.000000</td>\n",
       "      <td>0.000000</td>\n",
       "      <td>0.000000</td>\n",
       "      <td>0.000000</td>\n",
       "      <td>0.000000</td>\n",
       "      <td>0.000000</td>\n",
       "    </tr>\n",
       "    <tr>\n",
       "      <th>max</th>\n",
       "      <td>5.010000</td>\n",
       "      <td>79.000000</td>\n",
       "      <td>95.000000</td>\n",
       "      <td>10.740000</td>\n",
       "      <td>58.900000</td>\n",
       "      <td>31.800000</td>\n",
       "      <td>1.000000</td>\n",
       "      <td>1.000000</td>\n",
       "      <td>1.000000</td>\n",
       "      <td>1.000000</td>\n",
       "      <td>1.000000</td>\n",
       "      <td>1.000000</td>\n",
       "      <td>1.000000</td>\n",
       "      <td>1.000000</td>\n",
       "      <td>1.000000</td>\n",
       "      <td>1.000000</td>\n",
       "      <td>1.000000</td>\n",
       "      <td>1.000000</td>\n",
       "      <td>1.000000</td>\n",
       "    </tr>\n",
       "  </tbody>\n",
       "</table>\n",
       "</div>"
      ],
      "text/plain": [
       "              carat         depth         table             x             y  \\\n",
       "count  53940.000000  53940.000000  53940.000000  53940.000000  53940.000000   \n",
       "mean       0.797940     61.749405     57.457184      5.731157      5.734526   \n",
       "std        0.474011      1.432621      2.234491      1.121761      1.142135   \n",
       "min        0.200000     43.000000     43.000000      0.000000      0.000000   \n",
       "25%        0.400000     61.000000     56.000000      4.710000      4.720000   \n",
       "50%        0.700000     61.800000     57.000000      5.700000      5.710000   \n",
       "75%        1.040000     62.500000     59.000000      6.540000      6.540000   \n",
       "max        5.010000     79.000000     95.000000     10.740000     58.900000   \n",
       "\n",
       "                  z   isExpensive          Fair          Good         Ideal  \\\n",
       "count  53940.000000  53940.000000  53940.000000  53940.000000  53940.000000   \n",
       "mean       3.538734      0.272785      0.029848      0.090953      0.399537   \n",
       "std        0.705699      0.445395      0.170169      0.287545      0.489808   \n",
       "min        0.000000      0.000000      0.000000      0.000000      0.000000   \n",
       "25%        2.910000      0.000000      0.000000      0.000000      0.000000   \n",
       "50%        3.530000      0.000000      0.000000      0.000000      0.000000   \n",
       "75%        4.040000      1.000000      0.000000      0.000000      1.000000   \n",
       "max       31.800000      1.000000      1.000000      1.000000      1.000000   \n",
       "\n",
       "            Premium     Very Good             D             E             F  \\\n",
       "count  53940.000000  53940.000000  53940.000000  53940.000000  53940.000000   \n",
       "mean       0.255673      0.223990      0.125603      0.181628      0.176900   \n",
       "std        0.436243      0.416919      0.331404      0.385541      0.381588   \n",
       "min        0.000000      0.000000      0.000000      0.000000      0.000000   \n",
       "25%        0.000000      0.000000      0.000000      0.000000      0.000000   \n",
       "50%        0.000000      0.000000      0.000000      0.000000      0.000000   \n",
       "75%        1.000000      0.000000      0.000000      0.000000      0.000000   \n",
       "max        1.000000      1.000000      1.000000      1.000000      1.000000   \n",
       "\n",
       "                  G             H             I             J  \n",
       "count  53940.000000  53940.000000  53940.000000  53940.000000  \n",
       "mean       0.209344      0.153949      0.100519      0.052058  \n",
       "std        0.406844      0.360903      0.300694      0.222146  \n",
       "min        0.000000      0.000000      0.000000      0.000000  \n",
       "25%        0.000000      0.000000      0.000000      0.000000  \n",
       "50%        0.000000      0.000000      0.000000      0.000000  \n",
       "75%        0.000000      0.000000      0.000000      0.000000  \n",
       "max        1.000000      1.000000      1.000000      1.000000  "
      ]
     },
     "execution_count": 4,
     "metadata": {},
     "output_type": "execute_result"
    }
   ],
   "source": [
    "# check the distribution of price for determing a cut and the dummy variables we just created\n",
    "df.describe()"
   ]
  },
  {
   "cell_type": "markdown",
   "id": "bd6412c5",
   "metadata": {},
   "source": [
    "## 2. Training and Test Split\n",
    "Create training and test splits:"
   ]
  },
  {
   "cell_type": "code",
   "execution_count": 5,
   "id": "3c9ef5d9-396e-43ed-8df8-9d801754846c",
   "metadata": {},
   "outputs": [],
   "source": [
    "# create a 80-20 training/test split \n",
    "X_train, X_test, y_train, y_test = train_test_split(\n",
    "  df.drop('isExpensive', axis = 1),\n",
    "  df['isExpensive'], \n",
    "  test_size = 0.20, \n",
    "  random_state = 42)"
   ]
  },
  {
   "cell_type": "code",
   "execution_count": 6,
   "id": "813f5740",
   "metadata": {},
   "outputs": [
    {
     "data": {
      "text/plain": [
       "(43152, 18)"
      ]
     },
     "metadata": {},
     "output_type": "display_data"
    },
    {
     "data": {
      "text/html": [
       "<div>\n",
       "<style scoped>\n",
       "    .dataframe tbody tr th:only-of-type {\n",
       "        vertical-align: middle;\n",
       "    }\n",
       "\n",
       "    .dataframe tbody tr th {\n",
       "        vertical-align: top;\n",
       "    }\n",
       "\n",
       "    .dataframe thead th {\n",
       "        text-align: right;\n",
       "    }\n",
       "</style>\n",
       "<table border=\"1\" class=\"dataframe\">\n",
       "  <thead>\n",
       "    <tr style=\"text-align: right;\">\n",
       "      <th></th>\n",
       "      <th>carat</th>\n",
       "      <th>depth</th>\n",
       "      <th>table</th>\n",
       "      <th>x</th>\n",
       "      <th>y</th>\n",
       "      <th>z</th>\n",
       "      <th>Fair</th>\n",
       "      <th>Good</th>\n",
       "      <th>Ideal</th>\n",
       "      <th>Premium</th>\n",
       "      <th>Very Good</th>\n",
       "      <th>D</th>\n",
       "      <th>E</th>\n",
       "      <th>F</th>\n",
       "      <th>G</th>\n",
       "      <th>H</th>\n",
       "      <th>I</th>\n",
       "      <th>J</th>\n",
       "    </tr>\n",
       "  </thead>\n",
       "  <tbody>\n",
       "    <tr>\n",
       "      <th>26546</th>\n",
       "      <td>2.01</td>\n",
       "      <td>58.1</td>\n",
       "      <td>64.0</td>\n",
       "      <td>8.23</td>\n",
       "      <td>8.19</td>\n",
       "      <td>4.77</td>\n",
       "      <td>0</td>\n",
       "      <td>1</td>\n",
       "      <td>0</td>\n",
       "      <td>0</td>\n",
       "      <td>0</td>\n",
       "      <td>0</td>\n",
       "      <td>0</td>\n",
       "      <td>1</td>\n",
       "      <td>0</td>\n",
       "      <td>0</td>\n",
       "      <td>0</td>\n",
       "      <td>0</td>\n",
       "    </tr>\n",
       "    <tr>\n",
       "      <th>9159</th>\n",
       "      <td>1.01</td>\n",
       "      <td>60.0</td>\n",
       "      <td>60.0</td>\n",
       "      <td>6.57</td>\n",
       "      <td>6.49</td>\n",
       "      <td>3.92</td>\n",
       "      <td>0</td>\n",
       "      <td>0</td>\n",
       "      <td>0</td>\n",
       "      <td>0</td>\n",
       "      <td>1</td>\n",
       "      <td>0</td>\n",
       "      <td>1</td>\n",
       "      <td>0</td>\n",
       "      <td>0</td>\n",
       "      <td>0</td>\n",
       "      <td>0</td>\n",
       "      <td>0</td>\n",
       "    </tr>\n",
       "    <tr>\n",
       "      <th>14131</th>\n",
       "      <td>1.10</td>\n",
       "      <td>62.5</td>\n",
       "      <td>58.0</td>\n",
       "      <td>6.59</td>\n",
       "      <td>6.54</td>\n",
       "      <td>4.10</td>\n",
       "      <td>0</td>\n",
       "      <td>0</td>\n",
       "      <td>0</td>\n",
       "      <td>1</td>\n",
       "      <td>0</td>\n",
       "      <td>0</td>\n",
       "      <td>0</td>\n",
       "      <td>0</td>\n",
       "      <td>0</td>\n",
       "      <td>1</td>\n",
       "      <td>0</td>\n",
       "      <td>0</td>\n",
       "    </tr>\n",
       "    <tr>\n",
       "      <th>15757</th>\n",
       "      <td>1.50</td>\n",
       "      <td>61.5</td>\n",
       "      <td>65.0</td>\n",
       "      <td>7.21</td>\n",
       "      <td>7.17</td>\n",
       "      <td>4.42</td>\n",
       "      <td>0</td>\n",
       "      <td>1</td>\n",
       "      <td>0</td>\n",
       "      <td>0</td>\n",
       "      <td>0</td>\n",
       "      <td>0</td>\n",
       "      <td>1</td>\n",
       "      <td>0</td>\n",
       "      <td>0</td>\n",
       "      <td>0</td>\n",
       "      <td>0</td>\n",
       "      <td>0</td>\n",
       "    </tr>\n",
       "    <tr>\n",
       "      <th>24632</th>\n",
       "      <td>1.52</td>\n",
       "      <td>62.1</td>\n",
       "      <td>57.0</td>\n",
       "      <td>7.27</td>\n",
       "      <td>7.32</td>\n",
       "      <td>4.53</td>\n",
       "      <td>0</td>\n",
       "      <td>0</td>\n",
       "      <td>0</td>\n",
       "      <td>0</td>\n",
       "      <td>1</td>\n",
       "      <td>0</td>\n",
       "      <td>0</td>\n",
       "      <td>0</td>\n",
       "      <td>1</td>\n",
       "      <td>0</td>\n",
       "      <td>0</td>\n",
       "      <td>0</td>\n",
       "    </tr>\n",
       "  </tbody>\n",
       "</table>\n",
       "</div>"
      ],
      "text/plain": [
       "       carat  depth  table     x     y     z  Fair  Good  Ideal  Premium  \\\n",
       "26546   2.01   58.1   64.0  8.23  8.19  4.77     0     1      0        0   \n",
       "9159    1.01   60.0   60.0  6.57  6.49  3.92     0     0      0        0   \n",
       "14131   1.10   62.5   58.0  6.59  6.54  4.10     0     0      0        1   \n",
       "15757   1.50   61.5   65.0  7.21  7.17  4.42     0     1      0        0   \n",
       "24632   1.52   62.1   57.0  7.27  7.32  4.53     0     0      0        0   \n",
       "\n",
       "       Very Good  D  E  F  G  H  I  J  \n",
       "26546          0  0  0  1  0  0  0  0  \n",
       "9159           1  0  1  0  0  0  0  0  \n",
       "14131          0  0  0  0  0  1  0  0  \n",
       "15757          0  0  1  0  0  0  0  0  \n",
       "24632          1  0  0  0  1  0  0  0  "
      ]
     },
     "metadata": {},
     "output_type": "display_data"
    },
    {
     "data": {
      "text/plain": [
       "26546    1\n",
       "9159     0\n",
       "14131    1\n",
       "15757    1\n",
       "24632    1\n",
       "Name: isExpensive, dtype: int64"
      ]
     },
     "metadata": {},
     "output_type": "display_data"
    },
    {
     "data": {
      "text/plain": [
       "(10788, 18)"
      ]
     },
     "metadata": {},
     "output_type": "display_data"
    },
    {
     "data": {
      "text/html": [
       "<div>\n",
       "<style scoped>\n",
       "    .dataframe tbody tr th:only-of-type {\n",
       "        vertical-align: middle;\n",
       "    }\n",
       "\n",
       "    .dataframe tbody tr th {\n",
       "        vertical-align: top;\n",
       "    }\n",
       "\n",
       "    .dataframe thead th {\n",
       "        text-align: right;\n",
       "    }\n",
       "</style>\n",
       "<table border=\"1\" class=\"dataframe\">\n",
       "  <thead>\n",
       "    <tr style=\"text-align: right;\">\n",
       "      <th></th>\n",
       "      <th>carat</th>\n",
       "      <th>depth</th>\n",
       "      <th>table</th>\n",
       "      <th>x</th>\n",
       "      <th>y</th>\n",
       "      <th>z</th>\n",
       "      <th>Fair</th>\n",
       "      <th>Good</th>\n",
       "      <th>Ideal</th>\n",
       "      <th>Premium</th>\n",
       "      <th>Very Good</th>\n",
       "      <th>D</th>\n",
       "      <th>E</th>\n",
       "      <th>F</th>\n",
       "      <th>G</th>\n",
       "      <th>H</th>\n",
       "      <th>I</th>\n",
       "      <th>J</th>\n",
       "    </tr>\n",
       "  </thead>\n",
       "  <tbody>\n",
       "    <tr>\n",
       "      <th>1388</th>\n",
       "      <td>0.24</td>\n",
       "      <td>62.1</td>\n",
       "      <td>56.0</td>\n",
       "      <td>3.97</td>\n",
       "      <td>4.00</td>\n",
       "      <td>2.47</td>\n",
       "      <td>0</td>\n",
       "      <td>0</td>\n",
       "      <td>1</td>\n",
       "      <td>0</td>\n",
       "      <td>0</td>\n",
       "      <td>0</td>\n",
       "      <td>0</td>\n",
       "      <td>0</td>\n",
       "      <td>1</td>\n",
       "      <td>0</td>\n",
       "      <td>0</td>\n",
       "      <td>0</td>\n",
       "    </tr>\n",
       "    <tr>\n",
       "      <th>50052</th>\n",
       "      <td>0.58</td>\n",
       "      <td>60.0</td>\n",
       "      <td>57.0</td>\n",
       "      <td>5.44</td>\n",
       "      <td>5.42</td>\n",
       "      <td>3.26</td>\n",
       "      <td>0</td>\n",
       "      <td>0</td>\n",
       "      <td>0</td>\n",
       "      <td>0</td>\n",
       "      <td>1</td>\n",
       "      <td>0</td>\n",
       "      <td>0</td>\n",
       "      <td>1</td>\n",
       "      <td>0</td>\n",
       "      <td>0</td>\n",
       "      <td>0</td>\n",
       "      <td>0</td>\n",
       "    </tr>\n",
       "    <tr>\n",
       "      <th>41645</th>\n",
       "      <td>0.40</td>\n",
       "      <td>62.1</td>\n",
       "      <td>55.0</td>\n",
       "      <td>4.76</td>\n",
       "      <td>4.74</td>\n",
       "      <td>2.95</td>\n",
       "      <td>0</td>\n",
       "      <td>0</td>\n",
       "      <td>1</td>\n",
       "      <td>0</td>\n",
       "      <td>0</td>\n",
       "      <td>0</td>\n",
       "      <td>1</td>\n",
       "      <td>0</td>\n",
       "      <td>0</td>\n",
       "      <td>0</td>\n",
       "      <td>0</td>\n",
       "      <td>0</td>\n",
       "    </tr>\n",
       "    <tr>\n",
       "      <th>42377</th>\n",
       "      <td>0.43</td>\n",
       "      <td>60.8</td>\n",
       "      <td>57.0</td>\n",
       "      <td>4.92</td>\n",
       "      <td>4.89</td>\n",
       "      <td>2.98</td>\n",
       "      <td>0</td>\n",
       "      <td>0</td>\n",
       "      <td>0</td>\n",
       "      <td>1</td>\n",
       "      <td>0</td>\n",
       "      <td>0</td>\n",
       "      <td>1</td>\n",
       "      <td>0</td>\n",
       "      <td>0</td>\n",
       "      <td>0</td>\n",
       "      <td>0</td>\n",
       "      <td>0</td>\n",
       "    </tr>\n",
       "    <tr>\n",
       "      <th>17244</th>\n",
       "      <td>1.55</td>\n",
       "      <td>62.3</td>\n",
       "      <td>55.0</td>\n",
       "      <td>7.44</td>\n",
       "      <td>7.37</td>\n",
       "      <td>4.61</td>\n",
       "      <td>0</td>\n",
       "      <td>0</td>\n",
       "      <td>1</td>\n",
       "      <td>0</td>\n",
       "      <td>0</td>\n",
       "      <td>0</td>\n",
       "      <td>1</td>\n",
       "      <td>0</td>\n",
       "      <td>0</td>\n",
       "      <td>0</td>\n",
       "      <td>0</td>\n",
       "      <td>0</td>\n",
       "    </tr>\n",
       "  </tbody>\n",
       "</table>\n",
       "</div>"
      ],
      "text/plain": [
       "       carat  depth  table     x     y     z  Fair  Good  Ideal  Premium  \\\n",
       "1388    0.24   62.1   56.0  3.97  4.00  2.47     0     0      1        0   \n",
       "50052   0.58   60.0   57.0  5.44  5.42  3.26     0     0      0        0   \n",
       "41645   0.40   62.1   55.0  4.76  4.74  2.95     0     0      1        0   \n",
       "42377   0.43   60.8   57.0  4.92  4.89  2.98     0     0      0        1   \n",
       "17244   1.55   62.3   55.0  7.44  7.37  4.61     0     0      1        0   \n",
       "\n",
       "       Very Good  D  E  F  G  H  I  J  \n",
       "1388           0  0  0  0  1  0  0  0  \n",
       "50052          1  0  0  1  0  0  0  0  \n",
       "41645          0  0  1  0  0  0  0  0  \n",
       "42377          0  0  1  0  0  0  0  0  \n",
       "17244          0  0  1  0  0  0  0  0  "
      ]
     },
     "metadata": {},
     "output_type": "display_data"
    },
    {
     "data": {
      "text/plain": [
       "1388     0\n",
       "50052    0\n",
       "41645    0\n",
       "42377    0\n",
       "17244    1\n",
       "Name: isExpensive, dtype: int64"
      ]
     },
     "metadata": {},
     "output_type": "display_data"
    }
   ],
   "source": [
    "# Take a look at the splits - training set\n",
    "display(X_train.shape)\n",
    "display(X_train.head())\n",
    "display(y_train.head())\n",
    "\n",
    "# Take a look at the splits - test set\n",
    "display(X_test.shape)\n",
    "display(X_test.head())\n",
    "display(y_test.head())"
   ]
  },
  {
   "cell_type": "markdown",
   "id": "b1ef0974",
   "metadata": {},
   "source": [
    "We have arranged the `X_train` and `X_test` data sets: \n",
    "- Numerical columns: the first **6** columns (0 - 5)\n",
    "- Categorical columns : columns staring from column number **6** (6 - 17)\n",
    "\n",
    "Therefore, we will define a constant to mark this column number so that we can specify numerical and categorical columns easily."
   ]
  },
  {
   "cell_type": "code",
   "execution_count": 7,
   "id": "22801e57",
   "metadata": {},
   "outputs": [],
   "source": [
    "# categorical variables starting column\n",
    "col_cat_starts = 6"
   ]
  },
  {
   "cell_type": "markdown",
   "id": "5fbdb1a8-5500-47a3-b1c8-eada39d2803d",
   "metadata": {},
   "source": [
    "## 3. Fit and Select Models on Training Data"
   ]
  },
  {
   "cell_type": "markdown",
   "id": "cd21a11f-feb7-4ed2-a36c-7c3f2ac356b3",
   "metadata": {},
   "source": [
    "### MLR Models\n",
    "We will use cross validation on the training data to fit the following types of MLR models:\n",
    "- Full model: both numeric and categorical (dummy) variables without interactions\n",
    "- Numeric model: only numeric variables without interaction\n",
    "- Dummy model: only categorical (dummy) variables without interaction\n",
    "- Full interaction model: both numeric and categorical (dummy) variables with interactions\n",
    "- Numerical interation model: only numeric variables with interaction\n",
    "\n",
    "Note: I spearted the following code cells so that we can keep track on running time."
   ]
  },
  {
   "cell_type": "code",
   "execution_count": 8,
   "id": "c525f32c-66f6-4e8b-8315-08abbf08bbef",
   "metadata": {},
   "outputs": [],
   "source": [
    "# Full model\n",
    "cv_full_model = cross_validate(\n",
    "    LogisticRegression(max_iter=10000), \n",
    "    X_train, \n",
    "    y_train, \n",
    "    cv = 5, \n",
    "    scoring = \"neg_mean_squared_error\")"
   ]
  },
  {
   "cell_type": "code",
   "execution_count": 9,
   "id": "a1b5cf85",
   "metadata": {},
   "outputs": [],
   "source": [
    "# Numeric model\n",
    "cv_numeric_model = cross_validate(\n",
    "    LogisticRegression(max_iter=10000), \n",
    "    X_train[[\"carat\", \"depth\", \"table\", \"x\", \"y\", \"z\"]], \n",
    "    y_train, \n",
    "    cv = 5,\n",
    "    scoring = \"neg_mean_squared_error\")\n"
   ]
  },
  {
   "cell_type": "code",
   "execution_count": 10,
   "id": "7e234d00",
   "metadata": {},
   "outputs": [],
   "source": [
    "# Dummy model (dummy variable only)\n",
    "cv_dummy_model = cross_validate(\n",
    "    LogisticRegression(max_iter=10000), \n",
    "    X_train.iloc[:, col_cat_starts:], \n",
    "    y_train, \n",
    "    cv = 5,\n",
    "    scoring = \"neg_mean_squared_error\")\n"
   ]
  },
  {
   "cell_type": "code",
   "execution_count": 11,
   "id": "1a13e734",
   "metadata": {},
   "outputs": [],
   "source": [
    "# Full interaction model\n",
    "poly = PolynomialFeatures(interaction_only=True, include_bias = False)\n",
    "cv_full_interaction_model = cross_validate(\n",
    "    LogisticRegression(max_iter=10000), \n",
    "    poly.fit_transform(X_train), \n",
    "    y_train, \n",
    "    cv = 5,\n",
    "    scoring = \"neg_mean_squared_error\")\n"
   ]
  },
  {
   "cell_type": "code",
   "execution_count": 12,
   "id": "dd1f2adf",
   "metadata": {},
   "outputs": [],
   "source": [
    "# Numerical interation model\n",
    "cv_numeric_interaction_model = cross_validate(\n",
    "    LogisticRegression(max_iter=10000), \n",
    "    np.concatenate((poly.fit_transform(X_train[[\"carat\", \"depth\", \"table\", \"x\", \"y\", \"z\"]]), X_train.iloc[:, col_cat_starts:].to_numpy()), axis = 1), \n",
    "    y_train, \n",
    "    cv = 5,\n",
    "    scoring = \"neg_mean_squared_error\")\n"
   ]
  },
  {
   "cell_type": "code",
   "execution_count": 13,
   "id": "0eaf320f-3ce0-465d-85d7-84845a0e6413",
   "metadata": {},
   "outputs": [
    {
     "name": "stdout",
     "output_type": "stream",
     "text": [
      "0.5898779184664054 0.6613677436920058 1.1725644751854103 0.5863313830586594 0.5849464162762452\n"
     ]
    }
   ],
   "source": [
    "# compare the models\n",
    "print(np.sqrt(-sum(cv_full_model['test_score'])), \n",
    "      np.sqrt(-sum(cv_numeric_model['test_score'])), \n",
    "      np.sqrt(-sum(cv_dummy_model['test_score'])), \n",
    "      np.sqrt(-sum(cv_full_interaction_model['test_score'])), \n",
    "      np.sqrt(-sum(cv_numeric_interaction_model['test_score']))) "
   ]
  },
  {
   "cell_type": "markdown",
   "id": "b059d278",
   "metadata": {},
   "source": [
    "Since full model, full interaction and numeric interaction model have simliar smallest MSE, we will pick the simplest model - the full model."
   ]
  },
  {
   "cell_type": "code",
   "execution_count": 14,
   "id": "febda456-7e0b-46cf-be66-92b3780fced6",
   "metadata": {},
   "outputs": [
    {
     "name": "stdout",
     "output_type": "stream",
     "text": [
      "[-18.27200865] [[ 1.07474214e+01 -9.77341935e-04 -7.39923683e-02  1.07476655e+00\n",
      "   5.52877891e-01  2.53146117e-01 -1.88742804e+00 -5.60638348e-01\n",
      "   2.06538472e-01 -3.42670841e-01 -3.56285760e-02  8.31580365e-01\n",
      "   5.45370455e-01  4.47978789e-01  5.58004509e-01 -6.93055642e-01\n",
      "  -1.66383410e+00 -2.64587171e+00]]\n"
     ]
    }
   ],
   "source": [
    "# fit with the best model\n",
    "mlr_best = LogisticRegression(max_iter=10000).fit(X_train, y_train)\n",
    "\n",
    "# print the intercept and coefficients\n",
    "print(mlr_best .intercept_, mlr_best .coef_)"
   ]
  },
  {
   "cell_type": "markdown",
   "id": "0dc33554",
   "metadata": {},
   "source": [
    "We can use confusion matric and accuracy rate to see how good the model is:"
   ]
  },
  {
   "cell_type": "code",
   "execution_count": 15,
   "id": "caafde04",
   "metadata": {},
   "outputs": [
    {
     "data": {
      "image/png": "[encoded data removed]",
      "text/plain": [
       "<Figure size 432x288 with 2 Axes>"
      ]
     },
     "metadata": {
      "needs_background": "light"
     },
     "output_type": "display_data"
    },
    {
     "name": "stdout",
     "output_type": "stream",
     "text": [
      "0: price is normal\n",
      "1: price is expensive\n",
      "The MSE is 0.26664117416154975 and the accuracy is 92.89%.\n"
     ]
    }
   ],
   "source": [
    "# predict on test data\n",
    "pred_mlr_best = mlr_best.predict(X_test)\n",
    "\n",
    "# compute accuracy\n",
    "acc_mlr_best = np.mean(pred_mlr_best == y_test)\n",
    "\n",
    "# compute mean squre error\n",
    "mse_mlr_best = np.sqrt(mean_squared_error(y_test, pred_mlr_best))\n",
    "\n",
    "# confuision matrix\n",
    "cfm_mlr_best = confusion_matrix(y_test, pred_mlr_best, labels=[0, 1])\n",
    "\n",
    "# plot confuision matrix\n",
    "pcm_mlr_best = ConfusionMatrixDisplay(cfm_mlr_best).plot()\n",
    "plt.show()\n",
    "print(f\"0: price is normal\\n\"\n",
    "      f\"1: price is expensive\\n\"\n",
    "      f\"The MSE is {mse_mlr_best} and the accuracy is {acc_mlr_best:.2%}.\")\n",
    "\n",
    "# save mse, accuracy and confusion matrix plot\n",
    "lst_mlr_best = [\"MLR\", mse_mlr_best, acc_mlr_best, pcm_mlr_best]"
   ]
  },
  {
   "cell_type": "markdown",
   "id": "db8e5503-cf3c-4ae3-9a29-e011184f45bc",
   "metadata": {},
   "source": [
    "### Classification Tree Model"
   ]
  },
  {
   "cell_type": "code",
   "execution_count": 16,
   "id": "cbf913e8-6ad7-419a-93a0-cafbaad47ed0",
   "metadata": {},
   "outputs": [
    {
     "name": "stdout",
     "output_type": "stream",
     "text": [
      "DecisionTreeClassifier(max_depth=8, min_samples_leaf=50)\n"
     ]
    }
   ],
   "source": [
    "# set up model parameters for tree classification modeling\n",
    "parameters = {'max_depth': range(2,20),\n",
    "              'min_samples_leaf':[10, 50, 100, 250]}\n",
    "\n",
    "# use a grid serach to estimate the best classification tree model\n",
    "tree_model = GridSearchCV(\n",
    "    DecisionTreeClassifier(),\n",
    "    parameters, \n",
    "    cv = 5, \n",
    "    scoring='neg_mean_squared_error') \\\n",
    "    .fit(X_train, y_train)\n",
    "    \n",
    "print(tree_model.best_estimator_)"
   ]
  },
  {
   "cell_type": "markdown",
   "id": "ec2d4303",
   "metadata": {},
   "source": [
    "Use cross validation with the best estimator tree model to compute the RMSE for comparison:"
   ]
  },
  {
   "cell_type": "code",
   "execution_count": 17,
   "id": "1cfa89af-ea45-4bff-a154-20f82ff42984",
   "metadata": {},
   "outputs": [
    {
     "name": "stdout",
     "output_type": "stream",
     "text": [
      "0.5703031727050096\n"
     ]
    }
   ],
   "source": [
    "# use a cross validation to compute RMSE\n",
    "ctree_cv = cross_validate(\n",
    "    tree_model.best_estimator_,\n",
    "    X_train,\n",
    "    y_train,\n",
    "    cv = 5,\n",
    "    scoring='neg_mean_squared_error')\n",
    "\n",
    "print(np.sqrt(-sum(ctree_cv['test_score'])))"
   ]
  },
  {
   "cell_type": "code",
   "execution_count": 18,
   "id": "235921fa-71af-4fe5-9149-2d7f88511f72",
   "metadata": {},
   "outputs": [
    {
     "data": {
      "image/png": "[encoded data removed]",
      "text/plain": [
       "<Figure size 432x288 with 2 Axes>"
      ]
     },
     "metadata": {
      "needs_background": "light"
     },
     "output_type": "display_data"
    },
    {
     "name": "stdout",
     "output_type": "stream",
     "text": [
      "0: price is normal\n",
      "1: price is expensive\n",
      "The MSE is 0.25798339473973636 and the accuracy is 93.34%.\n"
     ]
    }
   ],
   "source": [
    "# fit with the best tree model\n",
    "ctree_best = tree_model.best_estimator_.fit(X_train, y_train)\n",
    "\n",
    "# predict on test data\n",
    "pred_ctree_best = ctree_best.predict(X_test)\n",
    "\n",
    "# compute mean squre error\n",
    "mse_ctree_best = np.sqrt(mean_squared_error(y_test, pred_ctree_best))\n",
    "\n",
    "# compute accuracy\n",
    "acc_ctree_best = np.mean(pred_ctree_best == y_test)\n",
    "\n",
    "# confuision matrix\n",
    "cfm_ctree_best = confusion_matrix(y_test, pred_ctree_best, labels=[0, 1])\n",
    "\n",
    "# plot confuision matrix\n",
    "pcm_ctree_best = ConfusionMatrixDisplay(cfm_ctree_best).plot()\n",
    "plt.show()\n",
    "print(f\"0: price is normal\\n\"\n",
    "      f\"1: price is expensive\\n\"\n",
    "      f\"The MSE is {mse_ctree_best} and the accuracy is {acc_ctree_best:.2%}.\")\n",
    "\n",
    "# save mse, accuracy and confusion matrix plot\n",
    "lst_ctree_best = [\"Classification tree\", mse_ctree_best, acc_ctree_best, pcm_ctree_best]"
   ]
  },
  {
   "cell_type": "markdown",
   "id": "1ef287d1-234d-4e03-b644-7d126a2d2dbb",
   "metadata": {},
   "source": [
    "### Random Forest Model (Includes Bagged Tree as a Special Case)\n",
    "\n",
    "<font color = \"red\">Warning: the next cell will run for a longer time (~22.5 mins on my PC).</font>"
   ]
  },
  {
   "cell_type": "code",
   "execution_count": 19,
   "id": "74a4e0e9-d379-45b5-a994-b6f50a2b6a19",
   "metadata": {},
   "outputs": [
    {
     "name": "stdout",
     "output_type": "stream",
     "text": [
      "RandomForestClassifier(max_features=11, n_estimators=500)\n"
     ]
    }
   ],
   "source": [
    "# set up model parameters for tree classification modeling\n",
    "parameters = {\"max_features\" : range(1, X_train.shape[1])}\n",
    "\n",
    "# use a grid serach to estimate the best random forest model\n",
    "rf_tune = GridSearchCV(\n",
    "    RandomForestClassifier(n_estimators = 500),\n",
    "    parameters,\n",
    "    cv = 5,\n",
    "    scoring='neg_mean_squared_error') \\\n",
    "    .fit(X_train, y_train)\n",
    "\n",
    "print(rf_tune.best_estimator_)"
   ]
  },
  {
   "cell_type": "markdown",
   "id": "74432cae",
   "metadata": {},
   "source": [
    "Use cross validation with the best estimator random forest model to compute the RMSE for comparison:"
   ]
  },
  {
   "cell_type": "code",
   "execution_count": 20,
   "id": "56367ec2-736e-4558-852f-0101890e5869",
   "metadata": {},
   "outputs": [
    {
     "name": "stdout",
     "output_type": "stream",
     "text": [
      "0.5653036975895163\n"
     ]
    }
   ],
   "source": [
    "# use a cross validation to compute RMSE\n",
    "rf_cv = cross_validate(rf_tune.best_estimator_,\n",
    "                       X_train,\n",
    "                       y_train,\n",
    "                       cv = 5,\n",
    "                       scoring='neg_mean_squared_error')\n",
    "\n",
    "print(np.sqrt(-sum(rf_cv['test_score'])))"
   ]
  },
  {
   "cell_type": "code",
   "execution_count": 21,
   "id": "953e16c8-a3f1-45b7-9b16-d0b3cf7bde96",
   "metadata": {},
   "outputs": [
    {
     "data": {
      "image/png": "[encoded data removed]",
      "text/plain": [
       "<Figure size 432x288 with 2 Axes>"
      ]
     },
     "metadata": {
      "needs_background": "light"
     },
     "output_type": "display_data"
    },
    {
     "name": "stdout",
     "output_type": "stream",
     "text": [
      "0: price is normal\n",
      "1: price is expensive\n",
      "The MSE is 0.2565421354474123 and the accuracy is 93.42%.\n"
     ]
    }
   ],
   "source": [
    "# fit with the best random forest model\n",
    "rf_best = rf_tune.best_estimator_.fit(X_train, y_train)\n",
    "\n",
    "# predict on test data\n",
    "pred_rf_best = rf_best.predict(X_test)\n",
    "\n",
    "# compute mean squre error\n",
    "mse_rf_best = np.sqrt(mean_squared_error(y_test, pred_rf_best))\n",
    "\n",
    "# compute accuracy\n",
    "acc_rf_best = np.mean(pred_rf_best == y_test)\n",
    "\n",
    "# confuision matrix\n",
    "cfm_rf_best = confusion_matrix(y_test, pred_rf_best, labels=[0, 1])\n",
    "\n",
    "# plot confuision matrix\n",
    "pcm_rf_best = ConfusionMatrixDisplay(cfm_rf_best).plot()\n",
    "plt.show()\n",
    "print(f\"0: price is normal\\n\"\n",
    "      f\"1: price is expensive\\n\"\n",
    "      f\"The MSE is {mse_rf_best} and the accuracy is {acc_rf_best:.2%}.\")\n",
    "\n",
    "# save mse, accuracy and confusion matrix plot\n",
    "lst_rf_best = [\"Random Forest\", mse_rf_best, acc_rf_best, pcm_rf_best]"
   ]
  },
  {
   "cell_type": "markdown",
   "id": "f2ea52e0-e14d-410f-8ae9-01ce504cf91e",
   "metadata": {},
   "source": [
    "## 4. Compare on the Test Set"
   ]
  },
  {
   "cell_type": "code",
   "execution_count": 22,
   "id": "37db27bf",
   "metadata": {},
   "outputs": [
    {
     "name": "stdout",
     "output_type": "stream",
     "text": [
      "MLR model: MSE = 0.26664117416154975 and accuracy =92.89%.\n"
     ]
    },
    {
     "data": {
      "image/png": "[encoded data removed]",
      "text/plain": [
       "<Figure size 432x288 with 2 Axes>"
      ]
     },
     "metadata": {
      "needs_background": "light"
     },
     "output_type": "display_data"
    },
    {
     "name": "stdout",
     "output_type": "stream",
     "text": [
      "Classification tree model: MSE = 0.25798339473973636 and accuracy =93.34%.\n"
     ]
    },
    {
     "data": {
      "image/png": "[encoded data removed]",
      "text/plain": [
       "<Figure size 432x288 with 2 Axes>"
      ]
     },
     "metadata": {
      "needs_background": "light"
     },
     "output_type": "display_data"
    },
    {
     "name": "stdout",
     "output_type": "stream",
     "text": [
      "Random Forest model: MSE = 0.2565421354474123 and accuracy =93.42%.\n"
     ]
    },
    {
     "data": {
      "image/png": "[encoded data removed]",
      "text/plain": [
       "<Figure size 432x288 with 2 Axes>"
      ]
     },
     "metadata": {
      "needs_background": "light"
     },
     "output_type": "display_data"
    }
   ],
   "source": [
    "for _ in [lst_mlr_best , lst_ctree_best , lst_rf_best]:\n",
    "    print(f\"{_[0]} model: MSE = {_[1]} and accuracy ={_[2]:.2%}.\")\n",
    "    _[3].plot()\n",
    "    plt.show()"
   ]
  },
  {
   "cell_type": "markdown",
   "id": "9d22bad3",
   "metadata": {},
   "source": [
    "Based on the comparison above, Random Forest performs slightly better than the other two models on the test set."
   ]
  }
 ],
 "metadata": {
  "kernelspec": {
   "display_name": "Python 3 (ipykernel)",
   "language": "python",
   "name": "python3"
  },
  "language_info": {
   "codemirror_mode": {
    "name": "ipython",
    "version": 3
   },
   "file_extension": ".py",
   "mimetype": "text/x-python",
   "name": "python",
   "nbconvert_exporter": "python",
   "pygments_lexer": "ipython3",
   "version": "3.10.1"
  }
 },
 "nbformat": 4,
 "nbformat_minor": 5
}
